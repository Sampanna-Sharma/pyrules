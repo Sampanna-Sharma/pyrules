{
 "cells": [
  {
   "cell_type": "code",
   "execution_count": 109,
   "metadata": {},
   "outputs": [],
   "source": [
    "import numpy as np\n",
    "from apriory import Apriori,ItemSet,Vtid\n",
    "import csv  "
   ]
  },
  {
   "cell_type": "code",
   "execution_count": 110,
   "metadata": {},
   "outputs": [],
   "source": [
    "def ones(num):\n",
    "    '''returns the number of 1s in the binary representation of the number\n",
    "    eg input = 5 (ie. binary 101) then output = 2'''\n",
    "    count = 0\n",
    "    while num:\n",
    "        count += (num&1)\n",
    "        num >>= 1\n",
    "    return count"
   ]
  },
  {
   "cell_type": "code",
   "execution_count": 111,
   "metadata": {},
   "outputs": [],
   "source": [
    "def concat(tuple_,list_):\n",
    "    return [(tuple_[0] + (x,),tuple_[1]&D[x]) for x in list_]"
   ]
  },
  {
   "cell_type": "code",
   "execution_count": 131,
   "metadata": {},
   "outputs": [],
   "source": [
    "minsupp = 66"
   ]
  },
  {
   "cell_type": "code",
   "execution_count": 132,
   "metadata": {},
   "outputs": [
    {
     "data": {
      "text/plain": [
       "['0', '1', '2', '3', '4', '5', '6']"
      ]
     },
     "execution_count": 132,
     "metadata": {},
     "output_type": "execute_result"
    }
   ],
   "source": [
    "filename=\"retail_dataset.csv\"\n",
    "tidList=[]\n",
    "with open(filename,'r') as data: \n",
    "   for line in csv.reader(data): \n",
    "            tidList.append(line)\n",
    "tidList.pop(0)"
   ]
  },
  {
   "cell_type": "code",
   "execution_count": 157,
   "metadata": {},
   "outputs": [
    {
     "data": {
      "text/plain": [
       "[['Bread', 'Wine', 'Eggs', 'Meat', 'Cheese', 'Pencil', 'Diaper'],\n",
       " ['Bread', 'Cheese', 'Meat', 'Diaper', 'Wine', 'Milk', 'Pencil'],\n",
       " ['Cheese', 'Meat', 'Eggs', 'Milk', 'Wine', '', ''],\n",
       " ['Cheese', 'Meat', 'Eggs', 'Milk', 'Wine', '', ''],\n",
       " ['Meat', 'Pencil', 'Wine', '', '', '', ''],\n",
       " ['Eggs', 'Bread', 'Wine', 'Pencil', 'Milk', 'Diaper', 'Bagel'],\n",
       " ['Wine', 'Pencil', 'Eggs', 'Cheese', '', '', ''],\n",
       " ['Bagel', 'Bread', 'Milk', 'Pencil', 'Diaper', '', ''],\n",
       " ['Bread', 'Diaper', 'Cheese', 'Milk', 'Wine', 'Eggs', ''],\n",
       " ['Bagel', 'Wine', 'Diaper', 'Meat', 'Pencil', 'Eggs', 'Cheese'],\n",
       " ['Cheese', 'Meat', 'Eggs', 'Milk', 'Wine', '', ''],\n",
       " ['Bagel', 'Eggs', 'Meat', 'Bread', 'Diaper', 'Wine', 'Milk'],\n",
       " ['Bread', 'Diaper', 'Pencil', 'Bagel', 'Meat', '', ''],\n",
       " ['Bagel', 'Cheese', 'Milk', 'Meat', '', '', ''],\n",
       " ['Bread', '', '', '', '', '', ''],\n",
       " ['Pencil', 'Diaper', 'Bagel', '', '', '', ''],\n",
       " ['Meat', 'Bagel', 'Bread', '', '', '', ''],\n",
       " ['Bread', 'Bagel', 'Milk', '', '', '', ''],\n",
       " ['Diaper', '', '', '', '', '', ''],\n",
       " ['Bagel', 'Cheese', 'Meat', 'Bread', 'Diaper', 'Eggs', ''],\n",
       " ['Meat', 'Pencil', 'Cheese', 'Bread', '', '', ''],\n",
       " ['Cheese', 'Eggs', 'Wine', 'Bread', 'Milk', 'Pencil', 'Meat'],\n",
       " ['Eggs', 'Bagel', 'Cheese', 'Meat', 'Diaper', '', ''],\n",
       " ['Diaper', 'Wine', 'Eggs', 'Pencil', 'Meat', '', ''],\n",
       " ['Diaper', 'Meat', 'Milk', 'Bread', 'Bagel', 'Cheese', ''],\n",
       " ['Pencil', '', '', '', '', '', ''],\n",
       " ['Cheese', 'Meat', 'Eggs', 'Milk', 'Wine', '', ''],\n",
       " ['Diaper', 'Meat', 'Bread', 'Pencil', 'Wine', 'Cheese', 'Milk'],\n",
       " ['Bread', 'Bagel', '', '', '', '', ''],\n",
       " ['Meat', 'Bread', 'Eggs', 'Cheese', 'Milk', 'Diaper', ''],\n",
       " ['Diaper', 'Meat', '', '', '', '', ''],\n",
       " ['Cheese', 'Bagel', 'Bread', 'Diaper', 'Wine', '', ''],\n",
       " ['Cheese', 'Milk', 'Bread', '', '', '', ''],\n",
       " ['Bread', 'Bagel', 'Milk', '', '', '', ''],\n",
       " ['Diaper', 'Bread', 'Wine', 'Meat', 'Bagel', '', ''],\n",
       " ['Bread', 'Cheese', 'Milk', 'Wine', 'Diaper', '', ''],\n",
       " ['Bread', 'Bagel', 'Milk', '', '', '', ''],\n",
       " ['Bread', 'Bagel', 'Milk', '', '', '', ''],\n",
       " ['Eggs', '', '', '', '', '', ''],\n",
       " ['Bread', 'Bagel', 'Milk', '', '', '', ''],\n",
       " ['Bread', 'Bagel', 'Milk', '', '', '', ''],\n",
       " ['Meat', '', '', '', '', '', ''],\n",
       " ['Eggs', 'Wine', 'Milk', 'Cheese', 'Pencil', 'Bagel', 'Bread'],\n",
       " ['Bagel', 'Eggs', '', '', '', '', ''],\n",
       " ['Diaper', 'Wine', 'Meat', '', '', '', ''],\n",
       " ['Diaper', 'Bread', 'Bagel', 'Eggs', 'Wine', 'Milk', 'Cheese'],\n",
       " ['Cheese', 'Meat', 'Eggs', 'Milk', '', '', ''],\n",
       " ['Eggs', 'Wine', '', '', '', '', ''],\n",
       " ['Cheese', 'Meat', 'Eggs', 'Milk', 'Wine', '', ''],\n",
       " ['Wine', 'Milk', '', '', '', '', ''],\n",
       " ['Diaper', '', '', '', '', '', ''],\n",
       " ['Wine', 'Bread', 'Bagel', 'Diaper', 'Milk', '', ''],\n",
       " ['Cheese', 'Meat', 'Eggs', 'Milk', 'Wine', '', ''],\n",
       " ['Cheese', 'Meat', 'Eggs', 'Milk', '', '', ''],\n",
       " ['Cheese', 'Diaper', 'Meat', 'Wine', 'Bread', '', ''],\n",
       " ['Wine', 'Milk', 'Diaper', 'Pencil', 'Cheese', 'Eggs', ''],\n",
       " ['Cheese', 'Eggs', 'Meat', 'Diaper', 'Wine', 'Milk', 'Bread'],\n",
       " ['Diaper', 'Eggs', '', '', '', '', ''],\n",
       " ['Cheese', 'Meat', 'Eggs', 'Milk', 'Wine', '', ''],\n",
       " ['Wine', 'Cheese', 'Bagel', 'Pencil', 'Bread', 'Meat', 'Diaper'],\n",
       " ['Milk', 'Pencil', 'Cheese', 'Bagel', '', '', ''],\n",
       " ['Meat', 'Cheese', 'Diaper', 'Wine', '', '', ''],\n",
       " ['Bread', 'Bagel', 'Milk', '', '', '', ''],\n",
       " ['Bread', 'Meat', 'Pencil', 'Milk', 'Wine', 'Diaper', ''],\n",
       " ['Pencil', 'Cheese', 'Diaper', 'Wine', 'Eggs', '', ''],\n",
       " ['Bread', 'Diaper', 'Milk', 'Pencil', 'Cheese', 'Eggs', ''],\n",
       " ['Pencil', 'Milk', 'Cheese', '', '', '', ''],\n",
       " ['Eggs', 'Bagel', 'Bread', '', '', '', ''],\n",
       " ['Diaper', 'Bread', 'Cheese', 'Bagel', 'Meat', 'Pencil', ''],\n",
       " ['Bread', 'Bagel', 'Milk', 'Diaper', '', '', ''],\n",
       " ['Eggs', 'Bread', '', '', '', '', ''],\n",
       " ['Pencil', 'Milk', 'Diaper', 'Eggs', '', '', ''],\n",
       " ['Pencil', 'Milk', 'Meat', 'Cheese', '', '', ''],\n",
       " ['Bagel', 'Bread', 'Diaper', 'Cheese', 'Meat', '', ''],\n",
       " ['Cheese', 'Meat', 'Eggs', 'Milk', '', '', ''],\n",
       " ['Cheese', 'Meat', 'Eggs', 'Milk', '', '', ''],\n",
       " ['Bread', 'Wine', 'Eggs', 'Bagel', 'Cheese', 'Pencil', 'Diaper'],\n",
       " ['Diaper', '', '', '', '', '', ''],\n",
       " ['Cheese', 'Meat', 'Eggs', 'Milk', '', '', ''],\n",
       " ['Milk', '', '', '', '', '', ''],\n",
       " ['Bread', 'Pencil', '', '', '', '', ''],\n",
       " ['Wine', 'Milk', 'Cheese', '', '', '', ''],\n",
       " ['Cheese', 'Bagel', '', '', '', '', ''],\n",
       " ['Pencil', 'Diaper', 'Wine', '', '', '', ''],\n",
       " ['Eggs', 'Meat', 'Cheese', '', '', '', ''],\n",
       " ['Meat', 'Bagel', 'Pencil', '', '', '', ''],\n",
       " ['Meat', 'Eggs', 'Bagel', 'Cheese', 'Wine', '', ''],\n",
       " ['Bread', 'Cheese', 'Wine', 'Bagel', 'Milk', 'Meat', ''],\n",
       " ['Meat', 'Cheese', 'Pencil', 'Wine', 'Bread', '', ''],\n",
       " ['Milk', 'Cheese', 'Wine', 'Bagel', 'Meat', 'Pencil', 'Bread'],\n",
       " ['Pencil', 'Cheese', 'Wine', 'Milk', 'Diaper', 'Bagel', ''],\n",
       " ['Bread', 'Bagel', 'Milk', '', '', '', ''],\n",
       " ['Cheese', 'Meat', 'Eggs', 'Milk', '', '', ''],\n",
       " ['Cheese', 'Diaper', 'Pencil', 'Bagel', 'Wine', 'Meat', 'Eggs'],\n",
       " ['Eggs', 'Meat', 'Wine', 'Bagel', 'Milk', 'Cheese', 'Diaper'],\n",
       " ['Meat', '', '', '', '', '', ''],\n",
       " ['Bread', 'Bagel', 'Milk', '', '', '', ''],\n",
       " ['Pencil', '', '', '', '', '', ''],\n",
       " ['Wine', 'Diaper', 'Bread', 'Cheese', '', '', ''],\n",
       " ['Bagel', 'Pencil', 'Wine', 'Meat', '', '', ''],\n",
       " ['Wine', 'Bread', '', '', '', '', ''],\n",
       " ['Bread', 'Milk', 'Eggs', 'Cheese', 'Wine', 'Pencil', ''],\n",
       " ['Cheese', 'Milk', 'Meat', 'Eggs', 'Bagel', '', ''],\n",
       " ['Cheese', 'Meat', 'Eggs', 'Milk', '', '', ''],\n",
       " ['Diaper', 'Wine', 'Meat', 'Eggs', '', '', ''],\n",
       " ['Meat', 'Diaper', '', '', '', '', ''],\n",
       " ['Pencil', 'Wine', 'Bread', 'Milk', '', '', ''],\n",
       " ['Bagel', 'Bread', 'Eggs', 'Milk', 'Pencil', 'Meat', 'Wine'],\n",
       " ['Milk', 'Cheese', 'Wine', 'Meat', 'Bagel', 'Diaper', 'Bread'],\n",
       " ['Bagel', 'Diaper', 'Milk', 'Cheese', 'Wine', '', ''],\n",
       " ['Bread', 'Bagel', 'Milk', '', '', '', ''],\n",
       " ['Diaper', '', '', '', '', '', ''],\n",
       " ['Bagel', 'Pencil', 'Bread', 'Cheese', 'Eggs', '', ''],\n",
       " ['Bread', 'Eggs', 'Cheese', '', '', '', ''],\n",
       " ['Meat', 'Milk', 'Pencil', '', '', '', ''],\n",
       " ['Bread', 'Cheese', 'Eggs', 'Meat', 'Pencil', 'Diaper', 'Wine'],\n",
       " ['Meat', 'Cheese', '', '', '', '', ''],\n",
       " ['Eggs', 'Wine', 'Bagel', 'Bread', 'Meat', '', ''],\n",
       " ['Bagel', 'Cheese', '', '', '', '', ''],\n",
       " ['Bagel', 'Pencil', 'Diaper', 'Wine', 'Meat', '', ''],\n",
       " ['Milk', 'Pencil', '', '', '', '', ''],\n",
       " ['Pencil', 'Wine', 'Bagel', 'Eggs', 'Diaper', '', ''],\n",
       " ['Bread', 'Meat', 'Milk', 'Cheese', 'Wine', 'Eggs', 'Pencil'],\n",
       " ['Bread', 'Bagel', 'Milk', '', '', '', ''],\n",
       " ['Pencil', 'Bread', '', '', '', '', ''],\n",
       " ['Eggs', 'Milk', 'Bagel', 'Wine', '', '', ''],\n",
       " ['Cheese', 'Pencil', 'Meat', 'Eggs', 'Milk', 'Bagel', 'Wine'],\n",
       " ['Cheese', 'Milk', '', '', '', '', ''],\n",
       " ['Diaper', 'Pencil', 'Milk', 'Bread', '', '', ''],\n",
       " ['Bread', 'Bagel', 'Milk', '', '', '', ''],\n",
       " ['Cheese', 'Meat', 'Eggs', 'Milk', '', '', ''],\n",
       " ['Bread', 'Bagel', 'Milk', '', '', '', ''],\n",
       " ['Diaper', '', '', '', '', '', ''],\n",
       " ['Meat', 'Bread', 'Wine', 'Diaper', 'Bagel', '', ''],\n",
       " ['Bagel', '', '', '', '', '', ''],\n",
       " ['Wine', 'Diaper', '', '', '', '', ''],\n",
       " ['Meat', 'Diaper', 'Eggs', 'Cheese', 'Bagel', '', ''],\n",
       " ['Bread', 'Pencil', 'Bagel', 'Eggs', '', '', ''],\n",
       " ['Milk', 'Eggs', 'Meat', 'Cheese', 'Bread', 'Wine', 'Pencil'],\n",
       " ['Pencil', 'Eggs', 'Meat', '', '', '', ''],\n",
       " ['Pencil', 'Bagel', '', '', '', '', ''],\n",
       " ['Bread', 'Bagel', 'Meat', 'Cheese', 'Eggs', 'Pencil', ''],\n",
       " ['Milk', 'Eggs', 'Bread', 'Cheese', '', '', ''],\n",
       " ['Milk', '', '', '', '', '', ''],\n",
       " ['Pencil', 'Meat', 'Bread', 'Bagel', 'Cheese', '', ''],\n",
       " ['Wine', 'Eggs', 'Bread', 'Diaper', '', '', ''],\n",
       " ['Meat', 'Cheese', 'Eggs', 'Bagel', 'Wine', 'Bread', ''],\n",
       " ['Meat', 'Cheese', 'Bread', 'Milk', '', '', ''],\n",
       " ['Cheese', 'Milk', 'Pencil', 'Eggs', 'Bread', 'Meat', ''],\n",
       " ['Bread', '', '', '', '', '', ''],\n",
       " ['Bread', 'Eggs', 'Bagel', 'Diaper', 'Milk', 'Meat', 'Pencil'],\n",
       " ['Milk', 'Diaper', '', '', '', '', ''],\n",
       " ['Cheese', 'Eggs', 'Meat', 'Wine', 'Bagel', 'Diaper', 'Bread'],\n",
       " ['Diaper', 'Bagel', 'Bread', 'Pencil', 'Cheese', 'Milk', ''],\n",
       " ['Diaper', '', '', '', '', '', ''],\n",
       " ['Cheese', 'Meat', 'Eggs', 'Milk', '', '', ''],\n",
       " ['Cheese', 'Wine', 'Meat', 'Bagel', '', '', ''],\n",
       " ['Cheese', 'Diaper', 'Eggs', 'Milk', '', '', ''],\n",
       " ['Wine', 'Cheese', 'Meat', 'Pencil', 'Eggs', '', ''],\n",
       " ['Eggs', 'Bagel', 'Pencil', 'Wine', 'Cheese', '', ''],\n",
       " ['Bagel', 'Diaper', '', '', '', '', ''],\n",
       " ['Meat', '', '', '', '', '', ''],\n",
       " ['Bread', 'Eggs', 'Wine', '', '', '', ''],\n",
       " ['Bread', 'Milk', 'Pencil', 'Wine', 'Eggs', 'Bagel', ''],\n",
       " ['Milk', 'Bread', 'Bagel', '', '', '', ''],\n",
       " ['Bagel', 'Eggs', '', '', '', '', ''],\n",
       " ['Wine', 'Cheese', 'Milk', 'Meat', 'Bread', 'Eggs', ''],\n",
       " ['Meat', 'Wine', '', '', '', '', ''],\n",
       " ['Wine', 'Bread', '', '', '', '', ''],\n",
       " ['Meat', 'Eggs', '', '', '', '', ''],\n",
       " ['Bagel', 'Milk', 'Wine', 'Pencil', 'Cheese', '', ''],\n",
       " ['Cheese', 'Meat', 'Eggs', 'Milk', '', '', ''],\n",
       " ['Bread', 'Diaper', 'Pencil', 'Bagel', 'Cheese', '', ''],\n",
       " ['Bread', 'Pencil', 'Diaper', 'Cheese', '', '', ''],\n",
       " ['Cheese', 'Meat', 'Eggs', 'Milk', '', '', ''],\n",
       " ['Eggs', 'Bagel', 'Meat', 'Diaper', 'Pencil', 'Milk', 'Bread'],\n",
       " ['Bread', 'Bagel', 'Milk', '', '', '', ''],\n",
       " ['Diaper', 'Meat', 'Wine', 'Pencil', 'Bread', '', ''],\n",
       " ['Eggs', 'Cheese', '', '', '', '', ''],\n",
       " ['Cheese', 'Pencil', 'Wine', '', '', '', ''],\n",
       " ['Eggs', '', '', '', '', '', ''],\n",
       " ['Pencil', 'Milk', 'Eggs', '', '', '', ''],\n",
       " ['Bagel', 'Cheese', 'Eggs', 'Milk', 'Meat', 'Pencil', 'Bread'],\n",
       " ['Bagel', 'Diaper', 'Pencil', 'Milk', 'Meat', '', ''],\n",
       " ['Cheese', 'Meat', 'Eggs', 'Milk', '', '', ''],\n",
       " ['Cheese', 'Bread', 'Wine', '', '', '', ''],\n",
       " ['Bread', 'Cheese', 'Milk', 'Diaper', 'Pencil', '', ''],\n",
       " ['Milk', 'Pencil', 'Bagel', 'Wine', 'Eggs', 'Meat', ''],\n",
       " ['Wine', 'Milk', 'Eggs', 'Bread', 'Meat', '', ''],\n",
       " ['Bread', '', '', '', '', '', ''],\n",
       " ['Bread', 'Diaper', 'Pencil', 'Meat', 'Wine', '', ''],\n",
       " ['Cheese', 'Pencil', '', '', '', '', ''],\n",
       " ['Bread', 'Diaper', '', '', '', '', ''],\n",
       " ['Bagel', 'Diaper', 'Wine', 'Bread', '', '', ''],\n",
       " ['Wine', 'Bread', 'Diaper', '', '', '', ''],\n",
       " ['Bread', 'Bagel', 'Milk', '', '', '', ''],\n",
       " ['Diaper', 'Bagel', '', '', '', '', ''],\n",
       " ['Bread', 'Meat', 'Pencil', 'Eggs', 'Cheese', 'Milk', 'Wine'],\n",
       " ['Bread', 'Wine', 'Diaper', 'Eggs', 'Pencil', '', ''],\n",
       " ['Bread', 'Wine', 'Diaper', 'Eggs', 'Pencil', '', ''],\n",
       " ['Bread', 'Wine', 'Diaper', '', '', '', ''],\n",
       " ['Bread', 'Wine', 'Diaper', 'Eggs', '', '', ''],\n",
       " ['Bread', 'Wine', 'Diaper', 'Eggs', 'Pencil', 'Milk', ''],\n",
       " ['Wine', 'Pencil', 'Eggs', 'Cheese', '', '', ''],\n",
       " ['Bagel', 'Bread', 'Milk', 'Pencil', 'Diaper', '', ''],\n",
       " ['Bread', 'Diaper', 'Cheese', 'Milk', 'Wine', 'Eggs', ''],\n",
       " ['Bagel', 'Wine', 'Diaper', 'Meat', 'Pencil', 'Eggs', 'Cheese'],\n",
       " ['Cheese', 'Meat', 'Eggs', 'Milk', 'Wine', '', ''],\n",
       " ['Bagel', 'Eggs', 'Meat', 'Bread', 'Diaper', 'Wine', 'Milk'],\n",
       " ['Bread', 'Diaper', 'Pencil', 'Bagel', 'Meat', '', ''],\n",
       " ['Bagel', 'Cheese', 'Milk', 'Meat', '', '', ''],\n",
       " ['Bread', '', '', '', '', '', ''],\n",
       " ['Pencil', 'Diaper', 'Bagel', '', '', '', ''],\n",
       " ['Meat', 'Bagel', 'Bread', '', '', '', ''],\n",
       " ['Bread', 'Bagel', 'Milk', '', '', '', ''],\n",
       " ['Diaper', '', '', '', '', '', ''],\n",
       " ['Bagel', 'Cheese', 'Meat', 'Bread', 'Diaper', 'Eggs', ''],\n",
       " ['Meat', 'Pencil', 'Cheese', 'Bread', '', '', ''],\n",
       " ['Cheese', 'Eggs', 'Wine', 'Bread', 'Milk', 'Pencil', 'Meat'],\n",
       " ['Eggs', 'Bagel', 'Cheese', 'Meat', 'Diaper', '', ''],\n",
       " ['Diaper', 'Wine', 'Eggs', 'Pencil', 'Meat', '', ''],\n",
       " ['Diaper', 'Meat', 'Milk', 'Bread', 'Bagel', 'Cheese', ''],\n",
       " ['Pencil', '', '', '', '', '', ''],\n",
       " ['Cheese', 'Meat', 'Eggs', 'Milk', 'Wine', '', ''],\n",
       " ['Diaper', 'Meat', 'Bread', 'Pencil', 'Wine', 'Cheese', 'Milk'],\n",
       " ['Bread', 'Bagel', '', '', '', '', ''],\n",
       " ['Meat', 'Bread', 'Eggs', 'Cheese', 'Milk', 'Diaper', ''],\n",
       " ['Diaper', 'Meat', '', '', '', '', ''],\n",
       " ['Cheese', 'Bagel', 'Bread', 'Diaper', 'Wine', '', ''],\n",
       " ['Cheese', 'Milk', 'Bread', '', '', '', ''],\n",
       " ['Bread', 'Bagel', 'Milk', '', '', '', ''],\n",
       " ['Diaper', 'Bread', 'Wine', 'Meat', 'Bagel', '', ''],\n",
       " ['Bread', 'Cheese', 'Milk', 'Wine', 'Diaper', '', ''],\n",
       " ['Bread', 'Bagel', 'Milk', '', '', '', ''],\n",
       " ['Bread', 'Bagel', 'Milk', '', '', '', ''],\n",
       " ['Eggs', '', '', '', '', '', ''],\n",
       " ['Bread', 'Bagel', 'Milk', '', '', '', ''],\n",
       " ['Bread', 'Bagel', 'Milk', '', '', '', ''],\n",
       " ['Meat', '', '', '', '', '', ''],\n",
       " ['Eggs', 'Wine', 'Milk', 'Cheese', 'Pencil', 'Bagel', 'Bread'],\n",
       " ['Bagel', 'Eggs', '', '', '', '', ''],\n",
       " ['Diaper', 'Wine', 'Meat', '', '', '', ''],\n",
       " ['Diaper', 'Bread', 'Bagel', 'Eggs', 'Wine', 'Milk', 'Cheese'],\n",
       " ['Cheese', 'Meat', 'Eggs', 'Milk', '', '', ''],\n",
       " ['Eggs', 'Wine', '', '', '', '', ''],\n",
       " ['Cheese', 'Meat', 'Eggs', 'Milk', 'Wine', '', ''],\n",
       " ['Wine', 'Milk', '', '', '', '', ''],\n",
       " ['Diaper', '', '', '', '', '', ''],\n",
       " ['Wine', 'Bread', 'Bagel', 'Diaper', 'Milk', '', ''],\n",
       " ['Cheese', 'Meat', 'Eggs', 'Milk', 'Wine', '', ''],\n",
       " ['Cheese', 'Meat', 'Eggs', 'Milk', '', '', ''],\n",
       " ['Cheese', 'Diaper', 'Meat', 'Wine', 'Bread', '', ''],\n",
       " ['Wine', 'Milk', 'Diaper', 'Pencil', 'Cheese', 'Eggs', ''],\n",
       " ['Cheese', 'Eggs', 'Meat', 'Diaper', 'Wine', 'Milk', 'Bread'],\n",
       " ['Diaper', 'Eggs', '', '', '', '', ''],\n",
       " ['Cheese', 'Meat', 'Eggs', 'Milk', 'Wine', '', ''],\n",
       " ['Wine', 'Cheese', 'Bagel', 'Pencil', 'Bread', 'Meat', 'Diaper'],\n",
       " ['Milk', 'Pencil', 'Cheese', 'Bagel', '', '', ''],\n",
       " ['Meat', 'Cheese', 'Diaper', 'Wine', '', '', ''],\n",
       " ['Bread', 'Bagel', 'Milk', '', '', '', ''],\n",
       " ['Bread', 'Meat', 'Pencil', 'Milk', 'Wine', 'Diaper', ''],\n",
       " ['Pencil', 'Cheese', 'Diaper', 'Wine', 'Eggs', '', ''],\n",
       " ['Bread', 'Diaper', 'Milk', 'Pencil', 'Cheese', 'Eggs', ''],\n",
       " ['Pencil', 'Milk', 'Cheese', '', '', '', ''],\n",
       " ['Eggs', 'Bagel', 'Bread', '', '', '', ''],\n",
       " ['Diaper', 'Bread', 'Cheese', 'Bagel', 'Meat', 'Pencil', ''],\n",
       " ['Bread', 'Bagel', 'Milk', 'Diaper', '', '', ''],\n",
       " ['Eggs', 'Bread', '', '', '', '', ''],\n",
       " ['Pencil', 'Milk', 'Diaper', 'Eggs', '', '', ''],\n",
       " ['Pencil', 'Milk', 'Meat', 'Cheese', '', '', ''],\n",
       " ['Bagel', 'Bread', 'Diaper', 'Cheese', 'Meat', '', ''],\n",
       " ['Cheese', 'Meat', 'Eggs', 'Milk', '', '', ''],\n",
       " ['Cheese', 'Meat', 'Eggs', 'Milk', '', '', ''],\n",
       " ['Bread', 'Wine', 'Eggs', 'Bagel', 'Cheese', 'Pencil', 'Diaper'],\n",
       " ['Diaper', '', '', '', '', '', ''],\n",
       " ['Cheese', 'Meat', 'Eggs', 'Milk', '', '', ''],\n",
       " ['Milk', '', '', '', '', '', ''],\n",
       " ['Bread', 'Pencil', '', '', '', '', ''],\n",
       " ['Wine', 'Milk', 'Cheese', '', '', '', ''],\n",
       " ['Cheese', 'Bagel', '', '', '', '', ''],\n",
       " ['Pencil', 'Diaper', 'Wine', '', '', '', ''],\n",
       " ['Eggs', 'Meat', 'Cheese', '', '', '', ''],\n",
       " ['Meat', 'Bagel', 'Pencil', '', '', '', ''],\n",
       " ['Meat', 'Eggs', 'Bagel', 'Cheese', 'Wine', '', ''],\n",
       " ['Bread', 'Cheese', 'Wine', 'Bagel', 'Milk', 'Meat', ''],\n",
       " ['Meat', 'Cheese', 'Pencil', 'Wine', 'Bread', '', ''],\n",
       " ['Milk', 'Cheese', 'Wine', 'Bagel', 'Meat', 'Pencil', 'Bread'],\n",
       " ['Pencil', 'Cheese', 'Wine', 'Milk', 'Diaper', 'Bagel', ''],\n",
       " ['Bread', 'Bagel', 'Milk', '', '', '', ''],\n",
       " ['Cheese', 'Meat', 'Eggs', 'Milk', '', '', ''],\n",
       " ['Cheese', 'Diaper', 'Pencil', 'Bagel', 'Wine', 'Meat', 'Eggs'],\n",
       " ['Eggs', 'Meat', 'Wine', 'Bagel', 'Milk', 'Cheese', 'Diaper'],\n",
       " ['Meat', '', '', '', '', '', ''],\n",
       " ['Bread', 'Bagel', 'Milk', '', '', '', ''],\n",
       " ['Pencil', '', '', '', '', '', ''],\n",
       " ['Wine', 'Diaper', 'Bread', 'Cheese', '', '', ''],\n",
       " ['Bagel', 'Pencil', 'Wine', 'Meat', '', '', ''],\n",
       " ['Wine', 'Bread', '', '', '', '', ''],\n",
       " ['Bread', 'Milk', 'Eggs', 'Cheese', 'Wine', 'Pencil', ''],\n",
       " ['Cheese', 'Milk', 'Meat', 'Eggs', 'Bagel', '', ''],\n",
       " ['Cheese', 'Meat', 'Eggs', 'Milk', '', '', ''],\n",
       " ['Diaper', 'Wine', 'Meat', 'Eggs', '', '', ''],\n",
       " ['Meat', 'Diaper', '', '', '', '', ''],\n",
       " ['Pencil', 'Wine', 'Bread', 'Milk', '', '', ''],\n",
       " ['Bagel', 'Bread', 'Eggs', 'Milk', 'Pencil', 'Meat', 'Wine'],\n",
       " ['Milk', 'Cheese', 'Wine', 'Meat', 'Bagel', 'Diaper', 'Bread'],\n",
       " ['Bagel', 'Diaper', 'Milk', 'Cheese', 'Wine', '', ''],\n",
       " ['Bread', 'Bagel', 'Milk', '', '', '', ''],\n",
       " ['Diaper', '', '', '', '', '', ''],\n",
       " ['Bagel', 'Pencil', 'Bread', 'Cheese', 'Eggs', '', ''],\n",
       " ['Bread', 'Eggs', 'Cheese', '', '', '', ''],\n",
       " ['Meat', 'Milk', 'Pencil', '', '', '', ''],\n",
       " ['Bread', 'Cheese', 'Eggs', 'Meat', 'Pencil', 'Diaper', 'Wine'],\n",
       " ['Meat', 'Cheese', '', '', '', '', ''],\n",
       " ['Eggs', 'Wine', 'Bagel', 'Bread', 'Meat', '', '']]"
      ]
     },
     "execution_count": 157,
     "metadata": {},
     "output_type": "execute_result"
    }
   ],
   "source": [
    "tidList"
   ]
  },
  {
   "cell_type": "code",
   "execution_count": 133,
   "metadata": {},
   "outputs": [
    {
     "data": {
      "text/plain": [
       "['Bagel',\n",
       " 'Bread',\n",
       " 'Cheese',\n",
       " 'Diaper',\n",
       " 'Eggs',\n",
       " 'Meat',\n",
       " 'Milk',\n",
       " 'Pencil',\n",
       " 'Wine']"
      ]
     },
     "execution_count": 133,
     "metadata": {},
     "output_type": "execute_result"
    }
   ],
   "source": [
    "I = np.unique(sum(tidList,[])).tolist()\n",
    "I.remove('')\n",
    "I"
   ]
  },
  {
   "cell_type": "code",
   "execution_count": 134,
   "metadata": {},
   "outputs": [],
   "source": [
    "import sys"
   ]
  },
  {
   "cell_type": "code",
   "execution_count": 135,
   "metadata": {},
   "outputs": [
    {
     "data": {
      "text/plain": [
       "96"
      ]
     },
     "execution_count": 135,
     "metadata": {},
     "output_type": "execute_result"
    }
   ],
   "source": [
    "y = np.array([np.isin(I,x).astype(int) for x in tidList]).T\n",
    "y[0]\n",
    "sys.getsizeof(y[0])"
   ]
  },
  {
   "cell_type": "code",
   "execution_count": 136,
   "metadata": {},
   "outputs": [
    {
     "data": {
      "text/plain": [
       "1399262836615815444969757166698112704678974423567816012229711021137852755565730389324860786593"
      ]
     },
     "execution_count": 136,
     "metadata": {},
     "output_type": "execute_result"
    }
   ],
   "source": [
    "f = lambda x : int(''.join(map(str, x)), 2)\n",
    "l = list(map(f,y))\n",
    "sys.getsizeof(l[0])\n",
    "l[0]"
   ]
  },
  {
   "cell_type": "code",
   "execution_count": 137,
   "metadata": {},
   "outputs": [
    {
     "data": {
      "text/plain": [
       "{'Bagel': 1399262836615815444969757166698112704678974423567816012229711021137852755565730389324860786593,\n",
       " 'Bread': 51523628693714500897063122181219530319055335654113290053454651648420837892206202104530957176501,\n",
       " 'Cheese': 63331570683551621282026080832738126029118037166062266814026822500668523281449726465657964970806,\n",
       " 'Diaper': 51587122840224066954874991533893563293362868902018890695081092964881502704587401851819895829316,\n",
       " 'Eggs': 47699326488947057611516779396265902888676151022783315017974247862796939138622972220682929300533,\n",
       " 'Meat': 64790601688937634398947177027970154581346208937811287658704383548748820206306206091394987390479,\n",
       " 'Milk': 30690257374195307087246628990360738740903291430905158692130616423657279860725369484035529756552,\n",
       " 'Pencil': 54047710007027019296655409287013135103588392607645419986428531916020293971199247463320955194412,\n",
       " 'Wine': 66472578637127490372845166114865705386245461628091132032398197715121963913067437373494112759557}"
      ]
     },
     "execution_count": 137,
     "metadata": {},
     "output_type": "execute_result"
    }
   ],
   "source": [
    "D = dict(zip(I,l))\n",
    "D"
   ]
  },
  {
   "cell_type": "code",
   "execution_count": 138,
   "metadata": {},
   "outputs": [
    {
     "data": {
      "text/plain": [
       "{'Bagel': ['Bread',\n",
       "  'Cheese',\n",
       "  'Diaper',\n",
       "  'Eggs',\n",
       "  'Meat',\n",
       "  'Milk',\n",
       "  'Pencil',\n",
       "  'Wine'],\n",
       " 'Bread': ['Cheese', 'Diaper', 'Eggs', 'Meat', 'Milk', 'Pencil', 'Wine'],\n",
       " 'Cheese': ['Diaper', 'Eggs', 'Meat', 'Milk', 'Pencil', 'Wine'],\n",
       " 'Diaper': ['Eggs', 'Meat', 'Milk', 'Pencil', 'Wine'],\n",
       " 'Eggs': ['Meat', 'Milk', 'Pencil', 'Wine'],\n",
       " 'Meat': ['Milk', 'Pencil', 'Wine'],\n",
       " 'Milk': ['Pencil', 'Wine'],\n",
       " 'Pencil': ['Wine'],\n",
       " 'Wine': []}"
      ]
     },
     "execution_count": 138,
     "metadata": {},
     "output_type": "execute_result"
    }
   ],
   "source": [
    "S = {x:I[e+1:] for e,x in enumerate(I)}\n",
    "S"
   ]
  },
  {
   "cell_type": "code",
   "execution_count": 139,
   "metadata": {},
   "outputs": [
    {
     "data": {
      "text/plain": [
       "[(('Bagel',),\n",
       "  1399262836615815444969757166698112704678974423567816012229711021137852755565730389324860786593),\n",
       " (('Bread',),\n",
       "  51523628693714500897063122181219530319055335654113290053454651648420837892206202104530957176501),\n",
       " (('Cheese',),\n",
       "  63331570683551621282026080832738126029118037166062266814026822500668523281449726465657964970806),\n",
       " (('Diaper',),\n",
       "  51587122840224066954874991533893563293362868902018890695081092964881502704587401851819895829316),\n",
       " (('Eggs',),\n",
       "  47699326488947057611516779396265902888676151022783315017974247862796939138622972220682929300533),\n",
       " (('Meat',),\n",
       "  64790601688937634398947177027970154581346208937811287658704383548748820206306206091394987390479),\n",
       " (('Milk',),\n",
       "  30690257374195307087246628990360738740903291430905158692130616423657279860725369484035529756552),\n",
       " (('Pencil',),\n",
       "  54047710007027019296655409287013135103588392607645419986428531916020293971199247463320955194412),\n",
       " (('Wine',),\n",
       "  66472578637127490372845166114865705386245461628091132032398197715121963913067437373494112759557)]"
      ]
     },
     "execution_count": 139,
     "metadata": {},
     "output_type": "execute_result"
    }
   ],
   "source": [
    "queue = [((x,),D[x]) for x in S]\n",
    "queue"
   ]
  },
  {
   "cell_type": "code",
   "execution_count": 148,
   "metadata": {},
   "outputs": [],
   "source": [
    "def myfunc(tidlist):\n",
    "    I = np.unique(sum(tidList,[])).tolist()\n",
    "    I.remove('')\n",
    "    y = np.array([np.isin(I,x).astype(int) for x in tidList]).T\n",
    "    f = lambda x : int(''.join(map(str, x)), 2)\n",
    "    l = list(map(f,y))\n",
    "    D = dict(zip(I,l))\n",
    "    \n",
    "    S = {x:I[e+1:] for e,x in enumerate(I)}\n",
    "    \n",
    "    queue = [((x,),D[x]) for x in S]\n",
    "    \n",
    "    soln=dict()\n",
    "    not_soln = dict()\n",
    "    count = 0\n",
    "    while queue:\n",
    "        popped = queue.pop(0)\n",
    "        supp = ones(popped[1])\n",
    "        if supp >= minsupp:\n",
    "            queue += concat(popped,S[popped[0][-1]])\n",
    "            soln[popped[0]] = supp\n",
    "        else:\n",
    "            not_soln[popped[0]] = supp\n",
    "            try:\n",
    "                S[popped[0][-2]].remove(popped[0][-1])\n",
    "            except:\n",
    "                pass\n",
    "    return soln"
   ]
  },
  {
   "cell_type": "code",
   "execution_count": 154,
   "metadata": {},
   "outputs": [
    {
     "name": "stdout",
     "output_type": "stream",
     "text": [
      "         5362 function calls in 0.071 seconds\n",
      "\n",
      "   Ordered by: standard name\n",
      "\n",
      "   ncalls  tottime  percall  cumtime  percall filename:lineno(function)\n",
      "       85    0.008    0.000    0.008    0.000 <ipython-input-110-9d06702ac3d8>:1(ones)\n",
      "       27    0.000    0.000    0.000    0.000 <ipython-input-111-0c491419a0d5>:1(concat)\n",
      "       27    0.000    0.000    0.000    0.000 <ipython-input-111-0c491419a0d5>:2(<listcomp>)\n",
      "        1    0.005    0.005    0.071    0.071 <ipython-input-148-1a2e8458a4cf>:1(myfunc)\n",
      "        1    0.000    0.000    0.000    0.000 <ipython-input-148-1a2e8458a4cf>:11(<listcomp>)\n",
      "        1    0.001    0.001    0.047    0.047 <ipython-input-148-1a2e8458a4cf>:4(<listcomp>)\n",
      "        9    0.000    0.000    0.004    0.000 <ipython-input-148-1a2e8458a4cf>:5(<lambda>)\n",
      "        1    0.000    0.000    0.000    0.000 <ipython-input-148-1a2e8458a4cf>:9(<dictcomp>)\n",
      "        1    0.000    0.000    0.071    0.071 <string>:1(<module>)\n",
      "        1    0.000    0.000    0.000    0.000 arraysetops.py:113(_unpack_tuple)\n",
      "        1    0.000    0.000    0.002    0.002 arraysetops.py:121(unique)\n",
      "        1    0.000    0.000    0.001    0.001 arraysetops.py:268(_unique1d)\n",
      "      315    0.028    0.000    0.036    0.000 arraysetops.py:438(in1d)\n",
      "      315    0.002    0.000    0.043    0.000 arraysetops.py:550(isin)\n",
      "      945    0.001    0.000    0.008    0.000 numeric.py:433(asarray)\n",
      "        2    0.000    0.000    0.001    0.000 numeric.py:504(asanyarray)\n",
      "        1    0.000    0.000    0.071    0.071 {built-in method builtins.exec}\n",
      "      946    0.000    0.000    0.000    0.000 {built-in method builtins.len}\n",
      "        1    0.005    0.005    0.005    0.005 {built-in method builtins.sum}\n",
      "      948    0.008    0.000    0.008    0.000 {built-in method numpy.core.multiarray.array}\n",
      "        1    0.000    0.000    0.000    0.000 {built-in method numpy.core.multiarray.empty}\n",
      "      315    0.004    0.000    0.004    0.000 {built-in method numpy.core.multiarray.zeros}\n",
      "      315    0.003    0.000    0.003    0.000 {method 'astype' of 'numpy.ndarray' objects}\n",
      "        1    0.000    0.000    0.000    0.000 {method 'disable' of '_lsprof.Profiler' objects}\n",
      "        1    0.000    0.000    0.000    0.000 {method 'flatten' of 'numpy.ndarray' objects}\n",
      "        9    0.004    0.000    0.004    0.000 {method 'join' of 'str' objects}\n",
      "       85    0.000    0.000    0.000    0.000 {method 'pop' of 'list' objects}\n",
      "      630    0.001    0.000    0.001    0.000 {method 'ravel' of 'numpy.ndarray' objects}\n",
      "       59    0.000    0.000    0.000    0.000 {method 'remove' of 'list' objects}\n",
      "      315    0.001    0.000    0.001    0.000 {method 'reshape' of 'numpy.ndarray' objects}\n",
      "        1    0.001    0.001    0.001    0.001 {method 'sort' of 'numpy.ndarray' objects}\n",
      "        1    0.000    0.000    0.000    0.000 {method 'tolist' of 'numpy.ndarray' objects}\n",
      "\n",
      "\n"
     ]
    }
   ],
   "source": [
    "import cProfile\n",
    "cProfile.run('myfunc(tidList)')"
   ]
  },
  {
   "cell_type": "code",
   "execution_count": 155,
   "metadata": {},
   "outputs": [
    {
     "name": "stdout",
     "output_type": "stream",
     "text": [
      "16.7 ms ± 406 µs per loop (mean ± std. dev. of 7 runs, 100 loops each)\n"
     ]
    }
   ],
   "source": [
    "%timeit myfunc(tidList)"
   ]
  },
  {
   "cell_type": "code",
   "execution_count": 156,
   "metadata": {},
   "outputs": [
    {
     "name": "stdout",
     "output_type": "stream",
     "text": [
      "7.61 ms ± 146 µs per loop (mean ± std. dev. of 7 runs, 100 loops each)\n"
     ]
    }
   ],
   "source": [
    "from efficient_apriori import apriori\n",
    "transactions = tidList\n",
    "%timeit itemsets, rules = apriori(transactions, min_support=0.2 ,min_confidence=1)"
   ]
  },
  {
   "cell_type": "code",
   "execution_count": 140,
   "metadata": {},
   "outputs": [],
   "source": [
    "soln=dict()\n",
    "not_soln = dict()\n",
    "count = 0\n",
    "while queue:\n",
    "    popped = queue.pop(0)\n",
    "    supp = ones(popped[1])\n",
    "    if supp >= minsupp:\n",
    "        queue += concat(popped,S[popped[0][-1]])\n",
    "        soln[popped[0]] = supp\n",
    "    else:\n",
    "        not_soln[popped[0]] = supp\n",
    "        try:\n",
    "            S[popped[0][-2]].remove(popped[0][-1])\n",
    "        except:\n",
    "            pass"
   ]
  },
  {
   "cell_type": "code",
   "execution_count": 141,
   "metadata": {},
   "outputs": [
    {
     "data": {
      "text/plain": [
       "{('Bagel',): 134,\n",
       " ('Bread',): 159,\n",
       " ('Cheese',): 158,\n",
       " ('Diaper',): 128,\n",
       " ('Eggs',): 138,\n",
       " ('Meat',): 150,\n",
       " ('Milk',): 158,\n",
       " ('Pencil',): 114,\n",
       " ('Wine',): 138,\n",
       " ('Bagel', 'Bread'): 88,\n",
       " ('Bagel', 'Milk'): 71,\n",
       " ('Bread', 'Cheese'): 75,\n",
       " ('Bread', 'Diaper'): 73,\n",
       " ('Bread', 'Milk'): 88,\n",
       " ('Bread', 'Wine'): 77,\n",
       " ('Cheese', 'Eggs'): 94,\n",
       " ('Cheese', 'Meat'): 102,\n",
       " ('Cheese', 'Milk'): 96,\n",
       " ('Cheese', 'Wine'): 85,\n",
       " ('Diaper', 'Wine'): 74,\n",
       " ('Eggs', 'Meat'): 84,\n",
       " ('Eggs', 'Milk'): 77,\n",
       " ('Eggs', 'Wine'): 76,\n",
       " ('Meat', 'Milk'): 77,\n",
       " ('Meat', 'Wine'): 79,\n",
       " ('Milk', 'Wine'): 69,\n",
       " ('Cheese', 'Eggs', 'Meat'): 68}"
      ]
     },
     "execution_count": 141,
     "metadata": {},
     "output_type": "execute_result"
    }
   ],
   "source": [
    "soln"
   ]
  },
  {
   "cell_type": "code",
   "execution_count": 108,
   "metadata": {},
   "outputs": [
    {
     "data": {
      "text/plain": [
       "{('Bagel', 'Cheese', 'Diaper', 'Milk', 'Pencil'): 3,\n",
       " ('Bagel', 'Diaper', 'Eggs', 'Milk', 'Pencil'): 3,\n",
       " ('Bagel', 'Diaper', 'Meat', 'Milk', 'Pencil'): 3,\n",
       " ('Bagel', 'Diaper', 'Milk', 'Pencil', 'Wine'): 3,\n",
       " ('Cheese', 'Diaper', 'Meat', 'Milk', 'Pencil'): 3,\n",
       " ('Diaper', 'Eggs', 'Meat', 'Milk', 'Pencil'): 2,\n",
       " ('Bagel', 'Bread', 'Cheese', 'Diaper', 'Eggs', 'Meat'): 3,\n",
       " ('Bagel', 'Bread', 'Cheese', 'Diaper', 'Eggs', 'Milk'): 2,\n",
       " ('Bagel', 'Bread', 'Cheese', 'Diaper', 'Eggs', 'Pencil'): 2,\n",
       " ('Bagel', 'Bread', 'Cheese', 'Diaper', 'Milk', 'Pencil'): 1,\n",
       " ('Bagel', 'Bread', 'Cheese', 'Eggs', 'Meat', 'Milk'): 1,\n",
       " ('Bagel', 'Bread', 'Cheese', 'Eggs', 'Meat', 'Pencil'): 2,\n",
       " ('Bagel', 'Bread', 'Cheese', 'Eggs', 'Meat', 'Wine'): 2,\n",
       " ('Bagel', 'Bread', 'Cheese', 'Eggs', 'Milk', 'Pencil'): 3,\n",
       " ('Bagel', 'Bread', 'Cheese', 'Meat', 'Milk', 'Pencil'): 3,\n",
       " ('Bagel', 'Bread', 'Diaper', 'Eggs', 'Meat', 'Pencil'): 2,\n",
       " ('Bagel', 'Bread', 'Diaper', 'Eggs', 'Meat', 'Wine'): 3,\n",
       " ('Bagel', 'Bread', 'Diaper', 'Eggs', 'Milk', 'Pencil'): 3,\n",
       " ('Bagel', 'Bread', 'Diaper', 'Eggs', 'Pencil', 'Wine'): 3,\n",
       " ('Bagel', 'Bread', 'Diaper', 'Meat', 'Milk', 'Pencil'): 2,\n",
       " ('Bagel', 'Bread', 'Diaper', 'Meat', 'Pencil', 'Wine'): 2,\n",
       " ('Bagel', 'Bread', 'Diaper', 'Milk', 'Pencil', 'Wine'): 1,\n",
       " ('Bagel', 'Bread', 'Eggs', 'Meat', 'Pencil', 'Wine'): 2,\n",
       " ('Bagel', 'Cheese', 'Diaper', 'Eggs', 'Meat', 'Milk'): 2,\n",
       " ('Bagel', 'Cheese', 'Diaper', 'Eggs', 'Milk', 'Pencil'): 0,\n",
       " ('Bagel', 'Cheese', 'Diaper', 'Meat', 'Milk', 'Pencil'): 0,\n",
       " ('Bagel', 'Cheese', 'Eggs', 'Meat', 'Milk', 'Wine'): 3,\n",
       " ('Bagel', 'Cheese', 'Eggs', 'Milk', 'Pencil', 'Wine'): 3,\n",
       " ('Bagel', 'Cheese', 'Meat', 'Milk', 'Pencil', 'Wine'): 3,\n",
       " ('Bread', 'Cheese', 'Diaper', 'Eggs', 'Meat', 'Pencil'): 3,\n",
       " ('Bagel', 'Bread', 'Cheese', 'Diaper', 'Meat', 'Milk', 'Wine'): 2,\n",
       " ('Bagel', 'Bread', 'Diaper', 'Eggs', 'Meat', 'Milk', 'Wine'): 2}"
      ]
     },
     "execution_count": 108,
     "metadata": {},
     "output_type": "execute_result"
    }
   ],
   "source": [
    "not_soln"
   ]
  },
  {
   "cell_type": "code",
   "execution_count": null,
   "metadata": {},
   "outputs": [],
   "source": []
  },
  {
   "cell_type": "code",
   "execution_count": 130,
   "metadata": {},
   "outputs": [
    {
     "data": {
      "text/plain": [
       "{1: {('Meat',): 150,\n",
       "  ('Eggs',): 138,\n",
       "  ('Wine',): 138,\n",
       "  ('Pencil',): 114,\n",
       "  ('Bread',): 159,\n",
       "  ('Diaper',): 128,\n",
       "  ('Cheese',): 158,\n",
       "  ('Milk',): 158,\n",
       "  ('',): 274,\n",
       "  ('Bagel',): 134},\n",
       " 2: {('Bread', 'Cheese'): 75,\n",
       "  ('Bread', 'Diaper'): 73,\n",
       "  ('Bread', 'Meat'): 65,\n",
       "  ('Bread', 'Pencil'): 63,\n",
       "  ('Bread', 'Wine'): 77,\n",
       "  ('Cheese', 'Diaper'): 63,\n",
       "  ('Cheese', 'Eggs'): 94,\n",
       "  ('Cheese', 'Meat'): 102,\n",
       "  ('Cheese', 'Pencil'): 63,\n",
       "  ('Cheese', 'Wine'): 85,\n",
       "  ('Diaper', 'Wine'): 74,\n",
       "  ('Eggs', 'Meat'): 84,\n",
       "  ('Eggs', 'Wine'): 76,\n",
       "  ('Meat', 'Wine'): 79,\n",
       "  ('Pencil', 'Wine'): 63,\n",
       "  ('Bread', 'Milk'): 88,\n",
       "  ('Cheese', 'Milk'): 96,\n",
       "  ('Meat', 'Milk'): 77,\n",
       "  ('Milk', 'Wine'): 69,\n",
       "  ('', 'Cheese'): 124,\n",
       "  ('', 'Eggs'): 106,\n",
       "  ('', 'Meat'): 116,\n",
       "  ('', 'Milk'): 129,\n",
       "  ('', 'Wine'): 100,\n",
       "  ('Eggs', 'Milk'): 77,\n",
       "  ('', 'Pencil'): 84,\n",
       "  ('Bagel', 'Bread'): 88,\n",
       "  ('Bagel', 'Milk'): 71,\n",
       "  ('', 'Bagel'): 106,\n",
       "  ('', 'Bread'): 125,\n",
       "  ('', 'Diaper'): 100},\n",
       " 3: {('Cheese', 'Eggs', 'Meat'): 68,\n",
       "  ('Cheese', 'Meat', 'Milk'): 64,\n",
       "  ('', 'Cheese', 'Eggs'): 69,\n",
       "  ('', 'Cheese', 'Meat'): 74,\n",
       "  ('', 'Cheese', 'Milk'): 74,\n",
       "  ('', 'Bagel', 'Bread'): 67}}"
      ]
     },
     "execution_count": 130,
     "metadata": {},
     "output_type": "execute_result"
    }
   ],
   "source": [
    "itemsets"
   ]
  },
  {
   "cell_type": "code",
   "execution_count": null,
   "metadata": {},
   "outputs": [],
   "source": []
  }
 ],
 "metadata": {
  "kernelspec": {
   "display_name": "Python 3.6.8 64-bit",
   "language": "python",
   "name": "python36864bit4d5db7482e864d06a0d63ea18f547240"
  },
  "language_info": {
   "codemirror_mode": {
    "name": "ipython",
    "version": 3
   },
   "file_extension": ".py",
   "mimetype": "text/x-python",
   "name": "python",
   "nbconvert_exporter": "python",
   "pygments_lexer": "ipython3",
   "version": "3.6.9"
  }
 },
 "nbformat": 4,
 "nbformat_minor": 2
}
